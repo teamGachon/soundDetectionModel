{
 "cells": [
  {
   "cell_type": "code",
   "execution_count": null,
   "metadata": {},
   "outputs": [],
   "source": [
    "from pydub import AudioSegment\n",
    "\n",
    "def convert_to_wav(input_file, output_file):\n",
    "    \"\"\"\n",
    "    다른 형식의 오디오 파일을 .wav로 변환합니다.\n",
    "    :param input_file: 입력 오디오 파일 경로\n",
    "    :param output_file: 출력 .wav 파일 경로\n",
    "    \"\"\"\n",
    "    try:\n",
    "        audio = AudioSegment.from_file(input_file)\n",
    "        audio.export(output_file, format=\"wav\")\n",
    "        print(f\"Converted {input_file} to {output_file}\")\n",
    "    except Exception as e:\n",
    "        print(f\"Error converting file: {e}\")\n",
    "\n",
    "# 예: .mp3 파일을 .wav로 변환\n",
    "input_file = \"path_to_audio_file.mp3\"\n",
    "output_file = \"converted_audio.wav\"\n",
    "convert_to_wav(input_file, output_file)\n"
   ]
  }
 ],
 "metadata": {
  "kernelspec": {
   "display_name": "vfirst",
   "language": "python",
   "name": "vfirst"
  },
  "language_info": {
   "name": "python",
   "version": "3.8.20"
  }
 },
 "nbformat": 4,
 "nbformat_minor": 2
}
