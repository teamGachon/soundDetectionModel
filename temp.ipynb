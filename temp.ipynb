{
 "cells": [
  {
   "cell_type": "code",
   "execution_count": 4,
   "metadata": {},
   "outputs": [
    {
     "name": "stdout",
     "output_type": "stream",
     "text": [
      "['car' 'no_car']\n",
      "[0 0 0 0 0]\n",
      "['car' 'car' 'car' 'car' 'car']\n"
     ]
    }
   ],
   "source": [
    "import os\n",
    "import numpy as np\n",
    "import librosa\n",
    "import librosa.display\n",
    "import tensorflow as tf\n",
    "from tensorflow.keras import layers, models\n",
    "from sklearn.model_selection import train_test_split\n",
    "from sklearn.preprocessing import LabelEncoder\n",
    "import matplotlib.pyplot as plt\n",
    "\n",
    "# 데이터 경로 설정\n",
    "split_car_folder = \"C:\\\\3-2\\\\p실무\\\\soundDetection\\\\data\\\\splitCar\"\n",
    "split_no_car_folder = \"C:\\\\3-2\\\\p실무\\\\soundDetection\\\\data\\\\splitNoCar\"\n",
    "\n",
    "# 오디오 데이터를 읽고 특징 추출 (MFCC)\n",
    "def extract_features(file_path, max_pad_len=44):\n",
    "    audio, sample_rate = librosa.load(file_path, res_type='kaiser_fast')\n",
    "    mfcc = librosa.feature.mfcc(y=audio, sr=sample_rate, n_mfcc=40)\n",
    "    pad_width = max_pad_len - mfcc.shape[1]\n",
    "    if pad_width > 0:\n",
    "        mfcc = np.pad(mfcc, pad_width=((0, 0), (0, pad_width)), mode='constant')\n",
    "    else:\n",
    "        mfcc = mfcc[:, :max_pad_len]\n",
    "    return mfcc\n",
    "\n",
    "# 데이터 준비\n",
    "def prepare_dataset(car_folder, no_car_folder):\n",
    "    data = []\n",
    "    labels = []\n",
    "    for file_name in os.listdir(car_folder):\n",
    "        if file_name.endswith('.wav'):\n",
    "            file_path = os.path.join(car_folder, file_name)\n",
    "            features = extract_features(file_path)\n",
    "            data.append(features)\n",
    "            labels.append('car')\n",
    "\n",
    "    for file_name in os.listdir(no_car_folder):\n",
    "        if file_name.endswith('.wav'):\n",
    "            file_path = os.path.join(no_car_folder, file_name)\n",
    "            features = extract_features(file_path)\n",
    "            data.append(features)\n",
    "            labels.append('no_car')\n",
    "\n",
    "    return np.array(data), np.array(labels)\n",
    "\n",
    "# 데이터 로드 및 전처리\n",
    "X, y = prepare_dataset(split_car_folder, split_no_car_folder)\n",
    "le = LabelEncoder()\n",
    "y_encoded = le.fit_transform(y)  # 'car' -> 1, 'no_car' -> 0\n",
    "print(le.classes_)  # ['car', 'no_car']와 같은 결과 출력\n",
    "print(y_encoded[:5])  # 인코딩된 결과의 일부를 출력\n",
    "print(y[:5])\n"
   ]
  }
 ],
 "metadata": {
  "kernelspec": {
   "display_name": "vfirst",
   "language": "python",
   "name": "vfirst"
  },
  "language_info": {
   "codemirror_mode": {
    "name": "ipython",
    "version": 3
   },
   "file_extension": ".py",
   "mimetype": "text/x-python",
   "name": "python",
   "nbconvert_exporter": "python",
   "pygments_lexer": "ipython3",
   "version": "3.8.20"
  }
 },
 "nbformat": 4,
 "nbformat_minor": 2
}
