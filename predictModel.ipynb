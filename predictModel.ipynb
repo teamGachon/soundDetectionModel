{
 "cells": [
  {
   "cell_type": "code",
   "execution_count": 2,
   "metadata": {},
   "outputs": [],
   "source": [
    "import numpy as np\n",
    "import librosa\n",
    "import sounddevice as sd\n",
    "from tensorflow.keras.models import load_model\n",
    "\n",
    "model = load_model(\"C:\\\\3-2\\\\p\\\\soundDetection\\\\car_detection_cnn_model2_48kHz.h5\")\n"
   ]
  },
  {
   "cell_type": "code",
   "execution_count": null,
   "metadata": {},
   "outputs": [
    {
     "name": "stdout",
     "output_type": "stream",
     "text": [
      "1/1 [==============================] - 0s 20ms/step\n",
      "Prediction Value: 1.00000000\n",
      "Prediction: No car sound detected!\n"
     ]
    }
   ],
   "source": [
    "\n",
    "\n",
    "# 오디오 전처리 함수\n",
    "def preprocess_audio(file_path, max_pad_len=199, target_sample_rate=48000):\n",
    "    \"\"\"\n",
    "    입력 오디오 파일을 모델 입력 형식에 맞게 전처리합니다.\n",
    "    :param file_path: 입력 오디오 파일 경로\n",
    "    :param max_pad_len: 고정된 입력 길이\n",
    "    :param target_sample_rate: 오디오 샘플레이트\n",
    "    :return: 전처리된 MFCC 특징 데이터\n",
    "    \"\"\"\n",
    "    # 오디오 로드 및 리샘플링\n",
    "    audio, sample_rate = librosa.load(file_path, sr=target_sample_rate, res_type='kaiser_fast')\n",
    "    \n",
    "    # MFCC 추출 (40개의 MFCC, 25ms 윈도우, 10.7ms 스텝)\n",
    "    mfcc = librosa.feature.mfcc(y=audio, sr=sample_rate, n_mfcc=40, n_fft=2048, hop_length=512)\n",
    "    \n",
    "    # 패딩 또는 자르기\n",
    "    pad_width = max_pad_len - mfcc.shape[1]\n",
    "    if pad_width > 0:\n",
    "        mfcc = np.pad(mfcc, pad_width=((0, 0), (0, pad_width)), mode='constant')\n",
    "    else:\n",
    "        mfcc = mfcc[:, :max_pad_len]\n",
    "    \n",
    "    # CNN 입력 형식으로 변환\n",
    "    return mfcc[np.newaxis, ..., np.newaxis]\n",
    "\n",
    "# 예측할 오디오 파일 경로\n",
    "# test_audio_path = \"C:\\\\3-2\\\\p\\\\soundDetection\\\\data\\\\splitCar\\\\car_temp_2_467.wav\"\n",
    "# test_audio_path = \"C:\\\\3-2\\\\p\\\\soundDetection\\\\data\\\\splitCar\\\\car_temp_segment_100.wav\"\n",
    "# test_audio_path = \"C:\\\\3-2\\\\p\\\\soundDetection\\\\data\\\\splitNoCar\\\\noCar_temp_2_45.wav\"\n",
    "# test_audio_path = \"C:\\\\3-2\\\\p\\\\soundDetection\\\\data\\\\splitNoCar\\\\noCar_temp_segment_78.wav\"\n",
    "# test_audio_path = \"C:\\\\Users\\\\jk070\\\\Downloads\\\\VehicleNoise1016.wav\"\n",
    "# test_audio_path = \"C:\\\\Users\\\\jk070\\\\Downloads\\\\audio_1-34497-A-14.wav\"\n",
    "\n",
    "# 오디오 데이터 전처리\n",
    "processed_audio = preprocess_audio(test_audio_path)\n",
    "\n",
    "# 모델 예측\n",
    "prediction = model.predict(processed_audio)\n",
    "\n",
    "# 예측 결과 해석\n",
    "prediction_value = prediction[0][0]\n",
    "print(f\"Prediction Value: {prediction_value:.8f}\")\n",
    "if prediction_value < 0.5:\n",
    "    print(\"Prediction: Car sound detected!\")\n",
    "else:\n",
    "    print(\"Prediction: No car sound detected!\")\n"
   ]
  },
  {
   "cell_type": "code",
   "execution_count": null,
   "metadata": {},
   "outputs": [],
   "source": []
  }
 ],
 "metadata": {
  "kernelspec": {
   "display_name": "vfirst",
   "language": "python",
   "name": "vfirst"
  },
  "language_info": {
   "codemirror_mode": {
    "name": "ipython",
    "version": 3
   },
   "file_extension": ".py",
   "mimetype": "text/x-python",
   "name": "python",
   "nbconvert_exporter": "python",
   "pygments_lexer": "ipython3",
   "version": "3.8.20"
  }
 },
 "nbformat": 4,
 "nbformat_minor": 2
}
