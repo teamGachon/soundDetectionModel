{
 "cells": [
  {
   "cell_type": "code",
   "execution_count": 1,
   "metadata": {},
   "outputs": [],
   "source": [
    "from pydub import AudioSegment\n",
    "import os"
   ]
  },
  {
   "cell_type": "code",
   "execution_count": 5,
   "metadata": {},
   "outputs": [
    {
     "name": "stdout",
     "output_type": "stream",
     "text": [
      "Audio files have been split and saved to C:\\3-2\\p실무\\soundDetection\\data\\splitCar and C:\\3-2\\p실무\\soundDetection\\data\\splitNoCar.\n"
     ]
    }
   ],
   "source": [
    "\n",
    "\n",
    "# 파일 경로 설정\n",
    "car_file_path = \"C:\\\\3-2\\\\p실무\\\\soundDetection\\\\data\\\\car\\\\car2.m4a\"\n",
    "no_car_file_path = \"C:\\\\3-2\\\\p실무\\\\soundDetection\\\\data\\\\noCar\\\\noCar2.m4a\"\n",
    "split_car_folder = \"C:\\\\3-2\\\\p실무\\\\soundDetection\\\\data\\\\splitCar\"\n",
    "split_no_car_folder = \"C:\\\\3-2\\\\p실무\\\\soundDetection\\\\data\\\\splitNoCar\"\n",
    "\n",
    "# m4a 파일을 wav로 변환하는 함수\n",
    "def convert_to_wav(input_file, output_file):\n",
    "    \"\"\"\n",
    "    m4a 파일을 wav 형식으로 변환합니다.\n",
    "\n",
    "    :param input_file: 입력 m4a 파일 경로\n",
    "    :param output_file: 출력 wav 파일 경로\n",
    "    \"\"\"\n",
    "    try:\n",
    "        audio = AudioSegment.from_file(input_file, format=\"m4a\")\n",
    "        audio.export(output_file, format=\"wav\")\n",
    "        return output_file\n",
    "    except Exception as e:\n",
    "        print(f\"Error converting {input_file} to wav: {e}\")\n",
    "        return None\n",
    "\n",
    "# 데이터 분할 함수\n",
    "def split_audio_file(file_path, output_folder, segment_length=2000):\n",
    "    \"\"\"\n",
    "    단일 오디오 파일을 지정된 길이로 분할하여 새로운 폴더에 저장합니다.\n",
    "    \n",
    "    :param file_path: 입력 오디오 파일 경로\n",
    "    :param output_folder: 출력 폴더 경로\n",
    "    :param segment_length: 분할 길이(ms)\n",
    "    \"\"\"\n",
    "    if not os.path.exists(output_folder):\n",
    "        os.makedirs(output_folder)\n",
    "    \n",
    "    try:\n",
    "        audio = AudioSegment.from_file(file_path)\n",
    "        file_base_name = os.path.splitext(os.path.basename(file_path))[0]\n",
    "\n",
    "        for i in range(0, len(audio), segment_length):\n",
    "            segment = audio[i:i + segment_length]\n",
    "            segment_file_name = f\"{file_base_name}_2_{i // segment_length}.wav\"\n",
    "            segment.export(os.path.join(output_folder, segment_file_name), format=\"wav\")\n",
    "    except Exception as e:\n",
    "        print(f\"Error splitting file {file_path}: {e}\")\n",
    "\n",
    "# m4a 파일을 wav로 변환한 뒤 분할\n",
    "def process_audio_files(input_file, temp_wav_file, output_folder):\n",
    "    \"\"\"\n",
    "    m4a 파일을 wav로 변환한 후 1초 단위로 분할하여 저장합니다.\n",
    "\n",
    "    :param input_file: 입력 m4a 파일 경로\n",
    "    :param temp_wav_file: 변환된 임시 wav 파일 경로\n",
    "    :param output_folder: 분할된 파일을 저장할 폴더 경로\n",
    "    \"\"\"\n",
    "    wav_file = convert_to_wav(input_file, temp_wav_file)\n",
    "    if wav_file:\n",
    "        split_audio_file(wav_file, output_folder)\n",
    "        os.remove(wav_file)  # 변환된 임시 wav 파일 삭제\n",
    "\n",
    "# 경로 설정 및 실행\n",
    "temp_car_wav = \"C:\\\\3-2\\\\p실무\\\\soundDetection\\\\data\\\\car_temp.wav\"\n",
    "temp_no_car_wav = \"C:\\\\3-2\\\\p실무\\\\soundDetection\\\\data\\\\noCar_temp.wav\"\n",
    "\n",
    "# 자동차 소리 데이터 처리\n",
    "process_audio_files(car_file_path, temp_car_wav, split_car_folder)\n",
    "\n",
    "# 자동차 소리 없음 데이터 처리\n",
    "process_audio_files(no_car_file_path, temp_no_car_wav, split_no_car_folder)\n",
    "\n",
    "print(f\"Audio files have been split and saved to {split_car_folder} and {split_no_car_folder}.\")\n"
   ]
  },
  {
   "cell_type": "code",
   "execution_count": null,
   "metadata": {},
   "outputs": [],
   "source": [
    "\n",
    "\n"
   ]
  }
 ],
 "metadata": {
  "kernelspec": {
   "display_name": "vfirst",
   "language": "python",
   "name": "vfirst"
  },
  "language_info": {
   "codemirror_mode": {
    "name": "ipython",
    "version": 3
   },
   "file_extension": ".py",
   "mimetype": "text/x-python",
   "name": "python",
   "nbconvert_exporter": "python",
   "pygments_lexer": "ipython3",
   "version": "3.8.20"
  }
 },
 "nbformat": 4,
 "nbformat_minor": 2
}
